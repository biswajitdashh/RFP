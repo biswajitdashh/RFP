{
 "cells": [
  {
   "cell_type": "code",
   "execution_count": 1,
   "metadata": {},
   "outputs": [],
   "source": [
    "from flask import Flask, request,redirect,render_template,url_for\n",
    "import openai\n",
    "import os\n",
    "from dotenv import load_dotenv"
   ]
  },
  {
   "cell_type": "code",
   "execution_count": 4,
   "metadata": {},
   "outputs": [
    {
     "name": "stdout",
     "output_type": "stream",
     "text": [
      "sk-proj-sbtJGtpeQXb8IEsG5aSNT3BlbkFJFNS3WvxPwgZ9IoQJoGK2\n"
     ]
    }
   ],
   "source": [
    "load_dotenv()\n",
    "app = Flask(__name__)\n",
    "openai.api_key = os.getenv('OPENAI_API_KEY')\n",
    "print(openai.api_key)"
   ]
  },
  {
   "cell_type": "code",
   "execution_count": 5,
   "metadata": {},
   "outputs": [],
   "source": [
    "data=\"Generate the Table of contents for a RPF\"\n",
    "response = openai.chat.completions.create(\n",
    "                model=\"gpt-4o\",\n",
    "                messages=[\n",
    "                    {\"role\": \"system\", \"content\": \"Be proficient in these sort of tasks, Attention to Detail, Organizational Skills, Understanding of Subject Matter, Clear Communication,Flexibility and Adaptability ,Proactive Problem Solving,Responsiveness \"},\n",
    "                    {\"role\": \"user\", \"content\": data},\n",
    "                    {\"role\": \"assistant\", \"content\":\"Make informed research based on the canadian government documnetation\"}],\n",
    "                )\n"
   ]
  },
  {
   "cell_type": "code",
   "execution_count": 7,
   "metadata": {},
   "outputs": [
    {
     "name": "stdout",
     "output_type": "stream",
     "text": [
      "Certainly! Below is an example of a Table of Contents (TOC) for a Request for Proposal (RFP) document. This TOC is designed based on general best practices and Canadian government documentation standards:\n",
      "\n",
      "---\n",
      "\n",
      "**Table of Contents**\n",
      "\n",
      "1. **Introduction**\n",
      "   1.1. Purpose of the RFP  \n",
      "   1.2. Background Information  \n",
      "   1.3. Objective  \n",
      "\n",
      "2. **Instructions to Bidders**\n",
      "   2.1. General Instructions  \n",
      "   2.2. Submission Deadline  \n",
      "   2.3. Submission Format  \n",
      "   2.4. Questions and Clarifications  \n",
      "   2.5. Amendment of RFP  \n",
      "   2.6. Bidder Inquiries  \n",
      "\n",
      "3. **Scope of Work**\n",
      "   3.1. Project Overview  \n",
      "   3.2. Detailed Tasks and Responsibilities  \n",
      "   3.3. Deliverables  \n",
      "   3.4. Project Schedule  \n",
      "\n",
      "4. **Evaluation Criteria**\n",
      "   4.1. Mandatory Requirements  \n",
      "   4.2. Rated Criteria  \n",
      "   4.3. Evaluation Process  \n",
      "\n",
      "5. **Proposal Submission Requirements**\n",
      "   5.1. Technical Proposal  \n",
      "   5.2. Financial Proposal  \n",
      "   5.3. Required Documentation  \n",
      "\n",
      "6. **Contractual Terms and Conditions**\n",
      "   6.1. Contract Duration  \n",
      "   6.2. Payment Terms  \n",
      "   6.3. Confidentiality  \n",
      "   6.4. Intellectual Property  \n",
      "   6.5. Dispute Resolution  \n",
      "\n",
      "7. **Annexes**\n",
      "   7.1. Annex A: Statement of Work  \n",
      "   7.2. Annex B: Pricing Template  \n",
      "   7.3. Annex C: Bidder Information Form  \n",
      "   7.4. Annex D: RFP Acknowledgment Form  \n",
      "   7.5. Annex E: Questions and Answers  \n",
      "\n",
      "---\n",
      "\n",
      "Feel free to customize this structure further based on the specific requirements or guidelines provided by the Canadian government or the specific details of the project.\n"
     ]
    }
   ],
   "source": [
    "print (response.choices[0].message.content)"
   ]
  },
  {
   "cell_type": "code",
   "execution_count": 6,
   "metadata": {},
   "outputs": [
    {
     "ename": "AttributeError",
     "evalue": "'tuple' object has no attribute 'choices'",
     "output_type": "error",
     "traceback": [
      "\u001b[1;31m---------------------------------------------------------------------------\u001b[0m",
      "\u001b[1;31mAttributeError\u001b[0m                            Traceback (most recent call last)",
      "Cell \u001b[1;32mIn[6], line 2\u001b[0m\n\u001b[0;32m      1\u001b[0m \u001b[38;5;28;01mfor\u001b[39;00m chunk \u001b[38;5;129;01min\u001b[39;00m response:\n\u001b[1;32m----> 2\u001b[0m     \u001b[38;5;28;01mif\u001b[39;00m \u001b[43mchunk\u001b[49m\u001b[38;5;241;43m.\u001b[39;49m\u001b[43mchoices\u001b[49m[\u001b[38;5;241m0\u001b[39m]\u001b[38;5;241m.\u001b[39mdelta\u001b[38;5;241m.\u001b[39mcontent \u001b[38;5;129;01mis\u001b[39;00m \u001b[38;5;129;01mnot\u001b[39;00m \u001b[38;5;28;01mNone\u001b[39;00m:\n\u001b[0;32m      3\u001b[0m         \u001b[38;5;28mprint\u001b[39m(chunk\u001b[38;5;241m.\u001b[39mchoices[\u001b[38;5;241m0\u001b[39m]\u001b[38;5;241m.\u001b[39mdelta\u001b[38;5;241m.\u001b[39mcontent, end\u001b[38;5;241m=\u001b[39m\u001b[38;5;124m\"\u001b[39m\u001b[38;5;124m\"\u001b[39m)\n",
      "\u001b[1;31mAttributeError\u001b[0m: 'tuple' object has no attribute 'choices'"
     ]
    }
   ],
   "source": [
    "for chunk in response:\n",
    "    if chunk.choices[0].delta.content is not None:\n",
    "        print(chunk.choices[0].delta.content, end=\"\")"
   ]
  },
  {
   "cell_type": "code",
   "execution_count": 12,
   "metadata": {},
   "outputs": [],
   "source": [
    "@app.route('/', methods=['GET','POST'])\n",
    "def index():\n",
    "    if request.method == 'POST':\n",
    "            data=request.form[\"data\"]\n",
    "            response = openai.chat.completions.create(\n",
    "                model=\"gpt-3.5-turbo\",\n",
    "                messages=[\n",
    "                    {\"role\": \"system\", \"content\": \"Behave like an AI Assistant.\"},\n",
    "                    {\"role\": \"user\", \"content\": data},\n",
    "                ])\n",
    "            print()\n",
    "            return redirect(url_for(\"index\"),result=response.choices[0].message.content)\n",
    "    result= request.args.get(\"result\")\n",
    "    return render_template(\"index.html\",result=result)\n",
    "    "
   ]
  },
  {
   "cell_type": "code",
   "execution_count": null,
   "metadata": {},
   "outputs": [],
   "source": [
    "if __name__ == '__main__':\n",
    "    app.run(debug=True)"
   ]
  },
  {
   "cell_type": "code",
   "execution_count": 3,
   "metadata": {},
   "outputs": [
    {
     "name": "stdout",
     "output_type": "stream",
     "text": [
      "4fd1e496cfd88e70e9f6a0439e130f583f34d3350c9143af9a17ba0d59802e9c\n"
     ]
    }
   ],
   "source": [
    "import secrets\n",
    "\n",
    "# Generate a random secret key\n",
    "secret_key = secrets.token_hex(32)\n",
    "print(secret_key)\n"
   ]
  }
 ],
 "metadata": {
  "kernelspec": {
   "display_name": "venv",
   "language": "python",
   "name": "python3"
  },
  "language_info": {
   "codemirror_mode": {
    "name": "ipython",
    "version": 3
   },
   "file_extension": ".py",
   "mimetype": "text/x-python",
   "name": "python",
   "nbconvert_exporter": "python",
   "pygments_lexer": "ipython3",
   "version": "3.11.3"
  }
 },
 "nbformat": 4,
 "nbformat_minor": 2
}
